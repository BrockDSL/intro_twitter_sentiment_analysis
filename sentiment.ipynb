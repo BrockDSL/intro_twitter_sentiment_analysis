{
 "cells": [
  {
   "cell_type": "markdown",
   "metadata": {},
   "source": [
    "# Twitter Sentiment Analysis\n",
    "\n",
    "- Congrats on getting this far\n",
    "- Just download your archive and put it in the same directory as this notebook file"
   ]
  },
  {
   "cell_type": "code",
   "execution_count": 1,
   "metadata": {},
   "outputs": [],
   "source": [
    "#Import a lot of stuff\n",
    "\n",
    "import os\n",
    "import string\n",
    "import pandas as pd\n",
    "import matplotlib.pyplot as plt\n",
    "\n",
    "\n",
    "from shutil import unpack_archive\n",
    "from nltk.corpus import stopwords\n",
    "from nltk.classify import SklearnClassifier\n",
    "\n",
    "%matplotlib inline"
   ]
  },
  {
   "cell_type": "code",
   "execution_count": 3,
   "metadata": {},
   "outputs": [],
   "source": [
    "#Download all the necessary NLTK info\n",
    "#Run this cell twice\n",
    "from nltk.sentiment.vader import SentimentIntensityAnalyzer"
   ]
  },
  {
   "cell_type": "code",
   "execution_count": 4,
   "metadata": {},
   "outputs": [],
   "source": [
    "# Unzip the archive and put it in a folder\n",
    "# Just do this once\n",
    "for f in os.listdir(os.curdir):\n",
    "    if f.endswith('.zip'):\n",
    "        unpack_archive(f, 'archive/')"
   ]
  },
  {
   "cell_type": "code",
   "execution_count": 5,
   "metadata": {},
   "outputs": [
    {
     "data": {
      "text/plain": [
       "0     RT @brockhumanities: Calling all grad students...\n",
       "1     In the biz we call that Text Analysis. https:/...\n",
       "2     Next up on the Digital Scholarship Lab Winter ...\n",
       "3     What is one example of digital scholarship you...\n",
       "4     RT @brock_library: It's true! Saturday worksho...\n",
       "5     Here's what we're up to this semester. HINT: W...\n",
       "6     RT @brock_dsl: It's not too late to sign up fo...\n",
       "7     It's not too late to sign up for the Introduct...\n",
       "8     @nomadic_ebru @BrockU_MDGL Let's get that on a...\n",
       "9     We made a dataviz of our most favorite digital...\n",
       "10    Did you miss our last Introduction to Command ...\n",
       "11    Workshop shop talk on Episode 4. Now posted.\\n...\n",
       "12    How do you keep track of references and source...\n",
       "13    Wondering what the Brock Digital Scholarship L...\n",
       "14    It's not too late to sign up for the Zotero wo...\n",
       "15    Extra! Extra! New Digital Scholarship Lab Blog...\n",
       "16    Join the Brock DSL for a hands-on Software Car...\n",
       "17    Our podcast is now in the triple digits. Thank...\n",
       "18    RT @brockhumanities: Come study Humanities wit...\n",
       "19    Some wheels are starting to turn on a project....\n",
       "20    How can you use Jupyter for education?  Good q...\n",
       "21    A new semester means writing new research pape...\n",
       "22    We updated some of our data visualisations wit...\n",
       "23    We are going to put on a @swcarpentry workshop...\n",
       "24    Welcome back! Ready for 2019? We're getting th...\n",
       "25    Want to subscribe? Here's the RSS: https://t.c...\n",
       "26    Episode 3 of our podcast is up: https://t.co/C...\n",
       "27                                         Time to pod.\n",
       "28    Join us for a little Command Line learning bef...\n",
       "29    Still on campus late this month? Want to learn...\n",
       "                            ...                        \n",
       "56    Thanks to everyone who attended our OpenRefine...\n",
       "57    Starting soon...\\nCome see the tragic story of...\n",
       "58    Hey guess what... We are also on mastodon:\\n\\n...\n",
       "59    Open Access Week is upon us. Check out the eve...\n",
       "60    RT @smithisgeneric: Mark your calendars! The C...\n",
       "61    GIS Day is coming! GIS Day is coming!\\n\\n#GIS\\...\n",
       "62    Ever hear of #OpenRefine? It is a great tool f...\n",
       "63                        Soon. https://t.co/hcpPr0OcJD\n",
       "64             Looking forward! https://t.co/c7R3B9jSNe\n",
       "65    The DSL likes open access. Do you? https://t.c...\n",
       "66    RT @BrockU_MDGL: Welcome back, Emily, for anot...\n",
       "67    Are you using citations in your research? S\\nS...\n",
       "68    To commemorate #OAweek at @BrockUniversity thi...\n",
       "69    We are finally on the web!\\n\\nhttps://t.co/USv...\n",
       "70    RT @Bibliojo: #lcb18 Git data transport comman...\n",
       "71    #lcb18 Day 2 begins. @copystar is showing us t...\n",
       "72    Interested in how our @LibCarpentry session is...\n",
       "73    James is taking us through the shell. With mir...\n",
       "74    RT @copystar: Good morning from the @LibCarpen...\n",
       "75    One more sleep until @libcarpentry. See you al...\n",
       "76    RT @arlabrat: Realizing a Major Digital Schola...\n",
       "77    Are you grad student at @BrockUniversity? (A m...\n",
       "78    Less than a week to get your travel sorted for...\n",
       "79    We are now on ExperienceBU. Check out our firs...\n",
       "80    We are hiring!\\n\\nDigital Scholarship Technica...\n",
       "81    We are hiring!\\n\\nDigital Scholarship Lab Serv...\n",
       "82    As part of our roll out... We now have an orga...\n",
       "83    Say. We have someone coming from Saskatchewan ...\n",
       "84    Check out our upcoming workshop:\\n\\nLibrary Ca...\n",
       "85    Welcome to the twitter account for the new Dig...\n",
       "Name: text, Length: 86, dtype: object"
      ]
     },
     "execution_count": 5,
     "metadata": {},
     "output_type": "execute_result"
    }
   ],
   "source": [
    "#Read all of those tweets into a Panda Frame\n",
    "raw_data = pd.read_csv('archive/tweets.csv', encoding=\"utf-8\")\n",
    "analysis = pd.DataFrame(raw_data)\n",
    "\n",
    "#Print out in a fancy HTML table\n",
    "analysis[\"text\"]"
   ]
  },
  {
   "cell_type": "code",
   "execution_count": 6,
   "metadata": {},
   "outputs": [
    {
     "name": "stdout",
     "output_type": "stream",
     "text": [
      "{'positive': 43, 'neutral': 41, 'negative': 2}\n",
      "Done!\n"
     ]
    }
   ],
   "source": [
    "#Binary Sentiment\n",
    "#Looks at all of our tweets and determines which are 'positive', 'negative', or 'neutral' based on binary classification\n",
    "\n",
    "\n",
    "sid = SentimentIntensityAnalyzer()\n",
    "summary = {\"positive\":0,\"neutral\":0,\"negative\":0}\n",
    "for x in analysis[\"text\"]:\n",
    "    ss = sid.polarity_scores(x)\n",
    "    if ss[\"compound\"] == 0.0:\n",
    "        analysis = analysis.append({\"Sent\": \"NEU\", \"Text\": x},ignore_index=True)\n",
    "        summary[\"neutral\"] +=1\n",
    "    elif ss[\"compound\"] > 0.0:\n",
    "        analysis = analysis.append({\"Sent\": \"POS\", \"Text\": x},ignore_index=True)\n",
    "        summary[\"positive\"] +=1\n",
    "    else:\n",
    "        analysis = analysis.append({\"Sent\": \"NEG\", \"Text\": x},ignore_index=True)\n",
    "        summary[\"negative\"] +=1\n",
    "\n",
    "        \n",
    "print(summary)\n",
    "print(\"Done!\")"
   ]
  },
  {
   "cell_type": "code",
   "execution_count": 7,
   "metadata": {},
   "outputs": [
    {
     "data": {
      "image/png": "[encoded data removed]",
      "text/plain": [
       "<matplotlib.figure.Figure at 0x7f85fcedb470>"
      ]
     },
     "metadata": {},
     "output_type": "display_data"
    }
   ],
   "source": [
    "#Plot out that binary info into a nice pie\n",
    "plt.pie([float(s) for s in summary.values()],labels=[str(l) for l in summary.keys()],autopct='%.1f%%', explode=[.1,.1,.1], shadow=True, startangle=45)\n",
    "plt.axis('equal')\n",
    "plt.show()"
   ]
  },
  {
   "cell_type": "code",
   "execution_count": null,
   "metadata": {},
   "outputs": [],
   "source": []
  }
 ],
 "metadata": {
  "kernelspec": {
   "display_name": "Python 3",
   "language": "python",
   "name": "python3"
  },
  "language_info": {
   "codemirror_mode": {
    "name": "ipython",
    "version": 3
   },
   "file_extension": ".py",
   "mimetype": "text/x-python",
   "name": "python",
   "nbconvert_exporter": "python",
   "pygments_lexer": "ipython3",
   "version": "3.6.4"
  }
 },
 "nbformat": 4,
 "nbformat_minor": 2
}
