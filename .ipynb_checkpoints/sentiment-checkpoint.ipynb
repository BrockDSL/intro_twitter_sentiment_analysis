{
 "cells": [
  {
   "cell_type": "markdown",
   "metadata": {},
   "source": [
    "# Twitter Sentiment Analysis\n",
    "\n",
    "- Download your twitter archive from:\n",
    " - More\n",
    " - Settings and Privacy\n",
    " - Data & Permissions\n",
    " - Your Twitter Data\n",
    "- You'll need to provide your password again\n",
    "- You'll need to 'request' your data first\n",
    "- You'll receive an email when it is ready to download\n",
    "- Copy that file into the directory where your tutorial files are\n"
   ]
  },
  {
   "cell_type": "code",
   "execution_count": 14,
   "metadata": {},
   "outputs": [],
   "source": [
    "#Import a lot of stuff\n",
    "\n",
    "import os\n",
    "import string\n",
    "import json\n",
    "import nltk\n",
    "import pandas as pd\n",
    "import matplotlib.pyplot as plt\n",
    "\n",
    "\n",
    "from shutil import unpack_archive\n",
    "\n",
    "from nltk.corpus import stopwords\n",
    "from nltk.classify import SklearnClassifier\n",
    "from nltk.sentiment.vader import SentimentIntensityAnalyzer\n",
    "\n",
    "%matplotlib inline"
   ]
  },
  {
   "cell_type": "code",
   "execution_count": 15,
   "metadata": {},
   "outputs": [
    {
     "name": "stderr",
     "output_type": "stream",
     "text": [
      "[nltk_data] Downloading package vader_lexicon to\n",
      "[nltk_data]     /Users/tribaric/nltk_data...\n",
      "[nltk_data]   Package vader_lexicon is already up-to-date!\n"
     ]
    },
    {
     "data": {
      "text/plain": [
       "True"
      ]
     },
     "execution_count": 15,
     "metadata": {},
     "output_type": "execute_result"
    }
   ],
   "source": [
    "#Download all the necessary NLTK info\n",
    "#Run this cell twice\n",
    "nltk.download('vader_lexicon')"
   ]
  },
  {
   "cell_type": "code",
   "execution_count": 16,
   "metadata": {},
   "outputs": [],
   "source": [
    "# Unzip the archive and put it in a folder\n",
    "# Just do this once\n",
    "for f in os.listdir(os.curdir):\n",
    "    if f.endswith('.zip'):\n",
    "        unpack_archive(f, 'archive/')"
   ]
  },
  {
   "cell_type": "code",
   "execution_count": 17,
   "metadata": {},
   "outputs": [],
   "source": [
    "#These cursed javascripts actually contain JSON\n",
    "#just need to chop out the leading bit of text: window.YTD.tweet.part0 = \n",
    "# https://medium.com/@oyeAbhishek/how-to-get-your-top-tweets-without-any-external-tool-40a4a8076122\n",
    "!sed 's/window\\.YTD\\.tweet\\.part0\\ \\=//' archive/tweet.js > archive/tweet.json"
   ]
  },
  {
   "cell_type": "code",
   "execution_count": 18,
   "metadata": {},
   "outputs": [
    {
     "data": {
      "text/plain": [
       "0      @brockhumanities @BrockMakerSpace We're here a...\n",
       "1      New pod. It's an @AliciaLFloyd episode! \\n\\nWe...\n",
       "2      Only 8 days left to register! Don't miss out o...\n",
       "3      RT @Brock_LINC: An Introduction to QGIS 3.6 Wo...\n",
       "4      The future is near! New furniture in the RFP.\\...\n",
       "5      Learn about accelerating research &amp; innova...\n",
       "6      No too late to come on by. Still a couple of s...\n",
       "7      Coming up on Aug. 7 the MDGL and the DSL will ...\n",
       "8      Coming up on July 25th from 10-11AM the Digita...\n",
       "9      Looking forward to our Introduction to Data Vi...\n",
       "10     We are very much in the dog days of summer.\\n\\...\n",
       "11     A new member has joined the Brock Library team...\n",
       "12     Be well with our the new podcast episode.\\n\\nh...\n",
       "13     Display screens and furniture beginning to app...\n",
       "14     RT @DNLynch: Exciting to feel the summer breez...\n",
       "15     We’ve been looking forward to this workshop! @...\n",
       "16     It's not too late to register for the Introduc...\n",
       "17     Ever wonder how to draw a pig blindfolded? You...\n",
       "18     A Wednesday morning surprise!!! The tarps are ...\n",
       "19     RT @sjanzen: Check out \"ArcGIS Pro: the softwa...\n",
       "20     New episode of the podcast has been posted. We...\n",
       "21     Only 6 days left to register for this new and ...\n",
       "22     RT @brock_library: Congratulations @Raptors fr...\n",
       "23     Don't forget to register for this NEW and very...\n",
       "24     RT @brock_dsl: ⭐️⭐️⭐️NEW Introduction to @ArcG...\n",
       "25     ⭐️⭐️⭐️NEW Introduction to @ArcGISPro workshop ...\n",
       "26     Look at how that sun shines into the new Ranki...\n",
       "27     RT @brock_dsl: Have you heard the news? Our su...\n",
       "28     Have you heard the news? Our super awesome nei...\n",
       "29     Looks like our pals in the main library, @broc...\n",
       "                             ...                        \n",
       "267    We made a dataviz of our most favorite digital...\n",
       "268    Did you miss our last Introduction to Command ...\n",
       "269    Workshop shop talk on Episode 4. Now posted.\\n...\n",
       "270    How do you keep track of references and source...\n",
       "271    Wondering what the Brock Digital Scholarship L...\n",
       "272    It's not too late to sign up for the Zotero wo...\n",
       "273    Extra! Extra! New Digital Scholarship Lab Blog...\n",
       "274    Join the Brock DSL for a hands-on Software Car...\n",
       "275    Our podcast is now in the triple digits. Thank...\n",
       "276    RT @brockhumanities: Come study Humanities wit...\n",
       "277    Some wheels are starting to turn on a project....\n",
       "278    How can you use Jupyter for education?  Good q...\n",
       "279    A new semester means writing new research pape...\n",
       "280    We updated some of our data visualisations wit...\n",
       "281    We are going to put on a @swcarpentry workshop...\n",
       "282    Welcome back! Ready for 2019? We're getting th...\n",
       "283    Want to subscribe? Here's the RSS: https://t.c...\n",
       "284    Episode 3 of our podcast is up: https://t.co/C...\n",
       "285                                         Time to pod.\n",
       "286    Join us for a little Command Line learning bef...\n",
       "287    Still on campus late this month? Want to learn...\n",
       "288    Interested in Digital Scholarship? We are hang...\n",
       "289    I wish our Daniel was on Twitter so we could n...\n",
       "290    Today we did some market research with GIS too...\n",
       "291    Have you seen the new display in the Library. ...\n",
       "292    RT @brock_library: RSVP your attendance today!...\n",
       "293    Episode 2 of  \"Steering the Digital Scholarshi...\n",
       "294    Are you as excited for the Digital Scholarship...\n",
       "295    We have two workshops on Wednesday that still ...\n",
       "296    #BrockUDSL is now offering Omeka, a digital ex...\n",
       "Name: full_text, Length: 297, dtype: object"
      ]
     },
     "execution_count": 18,
     "metadata": {},
     "output_type": "execute_result"
    }
   ],
   "source": [
    "# Create DataFrame with file we just created\n",
    "with open('archive/tweet.json') as rdf:\n",
    "    raw_data = json.load(rdf) \n",
    "analysis = pd.DataFrame(raw_data)\n",
    "\n",
    "analysis[\"full_text\"]"
   ]
  },
  {
   "cell_type": "code",
   "execution_count": 19,
   "metadata": {},
   "outputs": [
    {
     "name": "stdout",
     "output_type": "stream",
     "text": [
      "{'positive': 167, 'neutral': 117, 'negative': 13}\n",
      "Done!\n"
     ]
    }
   ],
   "source": [
    "#Binary Sentiment\n",
    "#Looks at all of our tweets and determines which are 'positive', 'negative', or 'neutral' based on binary classification\n",
    "\n",
    "\n",
    "sid = SentimentIntensityAnalyzer()\n",
    "summary = {\"positive\":0,\"neutral\":0,\"negative\":0}\n",
    "for x in analysis[\"full_text\"]:\n",
    "    ss = sid.polarity_scores(x)\n",
    "    if ss[\"compound\"] == 0.0:\n",
    "        analysis = analysis.append({\"Sent\": \"NEU\", \"Text\": x},ignore_index=True)\n",
    "        summary[\"neutral\"] +=1\n",
    "    elif ss[\"compound\"] > 0.0:\n",
    "        analysis = analysis.append({\"Sent\": \"POS\", \"Text\": x},ignore_index=True)\n",
    "        summary[\"positive\"] +=1\n",
    "    else:\n",
    "        analysis = analysis.append({\"Sent\": \"NEG\", \"Text\": x},ignore_index=True)\n",
    "        summary[\"negative\"] +=1\n",
    "\n",
    "        \n",
    "print(summary)\n",
    "print(\"Done!\")"
   ]
  },
  {
   "cell_type": "code",
   "execution_count": 20,
   "metadata": {},
   "outputs": [
    {
     "data": {
      "image/png": "[encoded data removed]",
      "text/plain": [
       "<Figure size 432x288 with 1 Axes>"
      ]
     },
     "metadata": {},
     "output_type": "display_data"
    }
   ],
   "source": [
    "#Plot out that binary info into a nice pie\n",
    "plt.pie([float(s) for s in summary.values()],labels=[str(l) for l in summary.keys()],autopct='%.1f%%', explode=[.1,.1,.1], shadow=True, startangle=45)\n",
    "plt.axis('equal')\n",
    "plt.show()"
   ]
  },
  {
   "cell_type": "code",
   "execution_count": null,
   "metadata": {},
   "outputs": [],
   "source": []
  }
 ],
 "metadata": {
  "kernelspec": {
   "display_name": "Python 3",
   "language": "python",
   "name": "python3"
  },
  "language_info": {
   "codemirror_mode": {
    "name": "ipython",
    "version": 3
   },
   "file_extension": ".py",
   "mimetype": "text/x-python",
   "name": "python",
   "nbconvert_exporter": "python",
   "pygments_lexer": "ipython3",
   "version": "3.7.1"
  }
 },
 "nbformat": 4,
 "nbformat_minor": 2
}
