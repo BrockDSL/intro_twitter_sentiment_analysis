{
 "cells": [
  {
   "cell_type": "markdown",
   "metadata": {},
   "source": [
    "# Twitter Sentiment Analysis\n",
    "\n",
    "- Congrats on getting this far\n",
    "- Just download your archive and put it in the same directory as this notebook file"
   ]
  },
  {
   "cell_type": "code",
   "execution_count": null,
   "metadata": {},
   "outputs": [],
   "source": [
    "#Import a lot of stuff\n",
    "\n",
    "import os\n",
    "import string\n",
    "import pandas as pd\n",
    "import matplotlib.pyplot as plt\n",
    "\n",
    "\n",
    "from shutil import unpack_archive\n",
    "from nltk.corpus import stopwords\n",
    "from nltk.classify import SklearnClassifier\n",
    "\n",
    "%matplotlib inline"
   ]
  },
  {
   "cell_type": "code",
   "execution_count": null,
   "metadata": {},
   "outputs": [],
   "source": [
    "#Download all the necessary NLTK info\n",
    "#Run this cell twice\n",
    "from nltk.sentiment.vader import SentimentIntensityAnalyzer"
   ]
  },
  {
   "cell_type": "code",
   "execution_count": null,
   "metadata": {},
   "outputs": [],
   "source": [
    "# Unzip the archive and put it in a folder\n",
    "# Just do this once\n",
    "for f in os.listdir(os.curdir):\n",
    "    if f.endswith('.zip'):\n",
    "        unpack_archive(f, 'archive/')"
   ]
  },
  {
   "cell_type": "code",
   "execution_count": null,
   "metadata": {},
   "outputs": [],
   "source": [
    "#Read all of those tweets into a Panda Frame\n",
    "raw_data = pd.read_csv('archive/tweets.csv', encoding=\"utf-8\")\n",
    "analysis = pd.DataFrame(raw_data)\n",
    "\n",
    "#Print out in a fancy HTML table\n",
    "analysis[\"text\"]"
   ]
  },
  {
   "cell_type": "code",
   "execution_count": null,
   "metadata": {},
   "outputs": [],
   "source": [
    "#Binary Sentiment\n",
    "#Looks at all of our tweets and determines which are 'positive', 'negative', or 'neutral' based on binary classification\n",
    "\n",
    "\n",
    "sid = SentimentIntensityAnalyzer()\n",
    "summary = {\"positive\":0,\"neutral\":0,\"negative\":0}\n",
    "for x in analysis[\"text\"]:\n",
    "    ss = sid.polarity_scores(x)\n",
    "    if ss[\"compound\"] == 0.0:\n",
    "        analysis = analysis.append({\"Sent\": \"NEU\", \"Text\": x},ignore_index=True)\n",
    "        summary[\"neutral\"] +=1\n",
    "    elif ss[\"compound\"] > 0.0:\n",
    "        analysis = analysis.append({\"Sent\": \"POS\", \"Text\": x},ignore_index=True)\n",
    "        summary[\"positive\"] +=1\n",
    "    else:\n",
    "        analysis = analysis.append({\"Sent\": \"NEG\", \"Text\": x},ignore_index=True)\n",
    "        summary[\"negative\"] +=1\n",
    "\n",
    "        \n",
    "print(summary)\n",
    "print(\"Done!\")"
   ]
  },
  {
   "cell_type": "code",
   "execution_count": null,
   "metadata": {},
   "outputs": [],
   "source": [
    "#Plot out that binary info into a nice pie\n",
    "plt.pie([float(s) for s in summary.values()],labels=[str(l) for l in summary.keys()],autopct='%.1f%%', explode=[.1,.1,.1], shadow=True, startangle=45)\n",
    "plt.axis('equal')\n",
    "plt.show()"
   ]
  },
  {
   "cell_type": "code",
   "execution_count": null,
   "metadata": {},
   "outputs": [],
   "source": []
  }
 ],
 "metadata": {
  "kernelspec": {
   "display_name": "Python 3",
   "language": "python",
   "name": "python3"
  },
  "language_info": {
   "codemirror_mode": {
    "name": "ipython",
    "version": 3
   },
   "file_extension": ".py",
   "mimetype": "text/x-python",
   "name": "python",
   "nbconvert_exporter": "python",
   "pygments_lexer": "ipython3",
   "version": "3.6.4"
  }
 },
 "nbformat": 4,
 "nbformat_minor": 2
}
